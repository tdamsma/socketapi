{
 "cells": [
  {
   "cell_type": "code",
   "execution_count": 1,
   "metadata": {},
   "outputs": [],
   "source": [
    "from app import db, Item"
   ]
  },
  {
   "cell_type": "code",
   "execution_count": 2,
   "metadata": {},
   "outputs": [],
   "source": [
    "db.drop_all()\n",
    "db.create_all()"
   ]
  },
  {
   "cell_type": "code",
   "execution_count": 3,
   "metadata": {},
   "outputs": [
    {
     "data": {
      "text/plain": [
       "[]"
      ]
     },
     "execution_count": 3,
     "metadata": {},
     "output_type": "execute_result"
    }
   ],
   "source": [
    "db.session.query(Item).all()"
   ]
  },
  {
   "cell_type": "code",
   "execution_count": 4,
   "metadata": {},
   "outputs": [],
   "source": [
    "for i in range(4):\n",
    "    u = Item()\n",
    "    u.data = {'letters': 'a'*i}\n",
    "    \n",
    "    db.session.add(u)\n",
    "db.session.commit()\n",
    "\n",
    "for i in range(4,8):\n",
    "    u = Item()\n",
    "    u.data = {'letters': 'a'*i}\n",
    "    \n",
    "    db.session.add(u)\n",
    "    db.session.commit()"
   ]
  },
  {
   "cell_type": "code",
   "execution_count": 5,
   "metadata": {},
   "outputs": [
    {
     "data": {
      "text/plain": [
       "[<Item 1@2018-03-26 08:53:37.607579>,\n",
       " <Item 2@2018-03-26 08:53:37.607579>,\n",
       " <Item 3@2018-03-26 08:53:37.607579>,\n",
       " <Item 4@2018-03-26 08:53:37.607579>,\n",
       " <Item 5@2018-03-26 08:53:37.675092>,\n",
       " <Item 6@2018-03-26 08:53:37.680472>,\n",
       " <Item 7@2018-03-26 08:53:37.682934>,\n",
       " <Item 8@2018-03-26 08:53:37.687029>]"
      ]
     },
     "execution_count": 5,
     "metadata": {},
     "output_type": "execute_result"
    }
   ],
   "source": [
    "db.session.query(Item).all()"
   ]
  }
 ],
 "metadata": {
  "kernelspec": {
   "display_name": "Python 3",
   "language": "python",
   "name": "python3"
  },
  "language_info": {
   "codemirror_mode": {
    "name": "ipython",
    "version": 3
   },
   "file_extension": ".py",
   "mimetype": "text/x-python",
   "name": "python",
   "nbconvert_exporter": "python",
   "pygments_lexer": "ipython3",
   "version": "3.6.4"
  }
 },
 "nbformat": 4,
 "nbformat_minor": 2
}
